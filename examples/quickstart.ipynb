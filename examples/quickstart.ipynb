{
 "cells": [
  {
   "cell_type": "code",
   "execution_count": 1,
   "id": "initial_id",
   "metadata": {
    "ExecuteTime": {
     "end_time": "2024-01-24T05:31:28.095361Z",
     "start_time": "2024-01-24T05:31:27.941239Z"
    },
    "collapsed": true
   },
   "outputs": [
    {
     "ename": "FileNotFoundError",
     "evalue": "[Errno 2] No such file or directory: '../tests/big_10_1000_alpha2p2_lbpre.pickle'",
     "output_type": "error",
     "traceback": [
      "\u001b[0;31m---------------------------------------------------------------------------\u001b[0m",
      "\u001b[0;31mFileNotFoundError\u001b[0m                         Traceback (most recent call last)",
      "Cell \u001b[0;32mIn[1], line 4\u001b[0m\n\u001b[1;32m      1\u001b[0m \u001b[38;5;28;01mfrom\u001b[39;00m \u001b[38;5;21;01mlbparticles\u001b[39;00m \u001b[38;5;28;01mimport\u001b[39;00m Precomputer, Particle, LogPotential, PotentialWrapper\n\u001b[1;32m      2\u001b[0m \u001b[38;5;28;01mimport\u001b[39;00m \u001b[38;5;21;01mnumpy\u001b[39;00m \u001b[38;5;28;01mas\u001b[39;00m \u001b[38;5;21;01mnp\u001b[39;00m\n\u001b[0;32m----> 4\u001b[0m lbpre \u001b[38;5;241m=\u001b[39m \u001b[43mPrecomputer\u001b[49m\u001b[38;5;241;43m.\u001b[39;49m\u001b[43mload\u001b[49m\u001b[43m(\u001b[49m\u001b[38;5;124;43m'\u001b[39;49m\u001b[38;5;124;43m../tests/big_10_1000_alpha2p2_lbpre.pickle\u001b[39;49m\u001b[38;5;124;43m'\u001b[39;49m\u001b[43m)\u001b[49m \u001b[38;5;66;03m# load the precomputer.\u001b[39;00m\n\u001b[1;32m      6\u001b[0m xcart \u001b[38;5;241m=\u001b[39m [\u001b[38;5;241m8100.0\u001b[39m, \u001b[38;5;241m0.0\u001b[39m, \u001b[38;5;241m90.0\u001b[39m] \u001b[38;5;66;03m# the Sun's location in x,y,z cartesian coordinates (in parsecs)\u001b[39;00m\n\u001b[1;32m      7\u001b[0m vcart \u001b[38;5;241m=\u001b[39m [\u001b[38;5;241m-\u001b[39m\u001b[38;5;241m11.1\u001b[39m, \u001b[38;5;241m12.24\u001b[39m \u001b[38;5;241m+\u001b[39m \u001b[38;5;241m220.0\u001b[39m, \u001b[38;5;241m7.25\u001b[39m] \u001b[38;5;66;03m# similar to the Sun's velocity in vx, vy, vz (given the position xcart) in units of pc/Myr.\u001b[39;00m\n",
      "File \u001b[0;32m~/Codebases/lbparticles/src/lbparticles/lbparticles.py:1406\u001b[0m, in \u001b[0;36mPrecomputer.load\u001b[0;34m(cls, filename)\u001b[0m\n\u001b[1;32m   1404\u001b[0m \u001b[38;5;129m@classmethod\u001b[39m\n\u001b[1;32m   1405\u001b[0m \u001b[38;5;28;01mdef\u001b[39;00m \u001b[38;5;21mload\u001b[39m(\u001b[38;5;28mcls\u001b[39m, filename) \u001b[38;5;241m-\u001b[39m\u001b[38;5;241m>\u001b[39m Precomputer:\n\u001b[0;32m-> 1406\u001b[0m     \u001b[38;5;28;01mwith\u001b[39;00m \u001b[38;5;28;43mopen\u001b[39;49m\u001b[43m(\u001b[49m\u001b[43mfilename\u001b[49m\u001b[43m,\u001b[49m\u001b[43m \u001b[49m\u001b[38;5;124;43m\"\u001b[39;49m\u001b[38;5;124;43mrb\u001b[39;49m\u001b[38;5;124;43m\"\u001b[39;49m\u001b[43m)\u001b[49m \u001b[38;5;28;01mas\u001b[39;00m file:\n\u001b[1;32m   1407\u001b[0m         \u001b[38;5;28;01mreturn\u001b[39;00m pickle\u001b[38;5;241m.\u001b[39mload(file)\n",
      "\u001b[0;31mFileNotFoundError\u001b[0m: [Errno 2] No such file or directory: '../tests/big_10_1000_alpha2p2_lbpre.pickle'"
     ]
    }
   ],
   "source": [
    "from lbparticles import Precomputer, Particle, LogPotential, PotentialWrapper\n",
    "import numpy as np\n",
    "\n",
    "lbpre = Precomputer.load('../big_10_1000_alpha2p2_lbpre.pickle') # load the precomputer.\n",
    "\n",
    "xcart = [8100.0, 0.0, 90.0] # the Sun's location in x,y,z cartesian coordinates (in parsecs)\n",
    "vcart = [-11.1, 12.24 + 220.0, 7.25] # similar to the Sun's velocity in vx, vy, vz (given the position xcart) in units of pc/Myr.\n",
    "nu0 = np.sqrt( 4.0*np.pi * lbpre.gravity * 0.2) # vertical oscillation frequency at r=8100 pc.\n",
    "alpha = 2.2 # powerlaw slope of the midplane density with radius, so that nu = nu0 (r/r0)^(-alpha/2)\n",
    "psir = PotentialWrapper(LogPotential(220.0)) # a logarithmic potential with a circular velocity of 220 pc/Myr.\n",
    "ordershape = 10 # number of terms used in the series to find the tangential position of the particle\n",
    "ordertime = 5 # number of terms used in the series to find the relationship between the particle's phase in its radial oscillation and the current time.\n",
    "\n",
    "part = Particle( xcart, vcart, psir, nu0, lbpre, ordershape=ordershape, ordertime=ordertime, alpha=2.2)\n",
    "\n",
    "X,V = part.xvabs(100) # find the particle's position and velocity 100 Myr later.\n",
    "\n",
    "print(X, V)"
   ]
  }
 ],
 "metadata": {
  "kernelspec": {
   "display_name": "Python 3",
   "language": "python",
   "name": "python3"
  },
  "language_info": {
   "codemirror_mode": {
    "name": "ipython",
    "version": 3
   },
   "file_extension": ".py",
   "mimetype": "text/x-python",
   "name": "python",
   "nbconvert_exporter": "python",
   "pygments_lexer": "ipython3",
   "version": "3.12.1"
  }
 },
 "nbformat": 4,
 "nbformat_minor": 5
}
