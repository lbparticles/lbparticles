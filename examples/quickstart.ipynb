{
 "cells": [
  {
   "cell_type": "code",
   "execution_count": 1,
   "id": "initial_id",
   "metadata": {
    "ExecuteTime": {
     "end_time": "2024-01-24T05:31:28.095361Z",
     "start_time": "2024-01-24T05:31:27.941239Z"
    },
    "collapsed": true
   },
   "outputs": [
    {
     "name": "stdout",
     "output_type": "stream",
     "text": [
      "[-7893.34770595  4616.35754029  -121.26656186] [-104.43022356 -177.24504255    0.25131479]\n"
     ]
    }
   ],
   "source": [
    "from lbparticles import Precomputer, Particle, LogPotential, PotentialWrapper\n",
    "import numpy as np\n",
    "\n",
    "lbpre = Precomputer.load('../big_10_1000_alpha2p2_lbpre.pickle') # load the precomputer.\n",
    "\n",
    "xcart = [8100.0, 0.0, 90.0] # the Sun's location in x,y,z cartesian coordinates (in parsecs)\n",
    "vcart = [-11.1, 12.24 + 220.0, 7.25] # similar to the Sun's velocity in vx, vy, vz (given the position xcart) in units of pc/Myr.\n",
    "nu0 = np.sqrt( 4.0*np.pi * lbpre.gravity * 0.2) # vertical oscillation frequency at r=8100 pc.\n",
    "alpha = 2.2 # powerlaw slope of the midplane density with radius, so that nu = nu0 (r/r0)^(-alpha/2)\n",
    "psir = PotentialWrapper(LogPotential(220.0)) # a logarithmic potential with a circular velocity of 220 pc/Myr.\n",
    "ordershape = 10 # number of terms used in the series to find the tangential position of the particle\n",
    "ordertime = 5 # number of terms used in the series to find the relationship between the particle's phase in its radial oscillation and the current time.\n",
    "\n",
    "part = Particle( xcart, vcart, psir, nu0, lbpre, ordershape=ordershape, ordertime=ordertime, alpha=2.2)\n",
    "\n",
    "X,V = part.xvabs(100) # find the particle's position and velocity 100 Myr later.\n",
    "\n",
    "print(X, V)"
   ]
  }
 ],
 "metadata": {
  "kernelspec": {
   "display_name": "Python 3",
   "language": "python",
   "name": "python3"
  },
  "language_info": {
   "codemirror_mode": {
    "name": "ipython",
    "version": 3
   },
   "file_extension": ".py",
   "mimetype": "text/x-python",
   "name": "python",
   "nbconvert_exporter": "python",
   "pygments_lexer": "ipython3",
   "version": "3.12.1"
  }
 },
 "nbformat": 4,
 "nbformat_minor": 5
}
