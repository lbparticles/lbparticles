{
 "cells": [
  {
   "cell_type": "markdown",
   "id": "6212898a-6f56-48a9-a53c-54db70018017",
   "metadata": {},
   "source": [
    "Here we take a look at a quick use case for lbparticles, namely finding a particle's position and velocity some time after initialization."
   ]
  },
  {
   "cell_type": "code",
   "execution_count": 1,
   "id": "initial_id",
   "metadata": {
    "ExecuteTime": {
     "end_time": "2024-01-24T05:31:28.095361Z",
     "start_time": "2024-01-24T05:31:27.941239Z"
    }
   },
   "outputs": [],
   "source": [
    "from lbparticles import Precomputer, Particle, LogPotential, PotentialWrapper\n",
    "import numpy as np"
   ]
  },
  {
   "cell_type": "code",
   "execution_count": 2,
   "id": "cc8407d3-b6c2-4e80-8ec0-ac96e65eac1b",
   "metadata": {
    "ExecuteTime": {
     "end_time": "2024-01-24T05:31:28.095361Z",
     "start_time": "2024-01-24T05:31:27.941239Z"
    }
   },
   "outputs": [
    {
     "name": "stdout",
     "output_type": "stream",
     "text": [
      "[-7899.86418167  4605.27704353  -121.26918128] [-104.14461122 -177.4118112     0.24529073]\n"
     ]
    }
   ],
   "source": [
    "# To find a particle's position/velocity at a given time, we need a precomputer.\n",
    "# You can get a copy from https://www.dropbox.com/scl/fi/yo7ud56pxap10facsqk6k/big_10_1000_alpha2p2_lbpre.pickle?rlkey=dix9e1a5yn7gqjlw2sdtmfbnx&dl=1\n",
    "#  or you can generate your own copy by calling Precomputer() as below.\n",
    "iHaveACopy = True\n",
    "if iHaveACopy:\n",
    "    lbpre = Precomputer.load('../../big_10_1000_alpha2p2_lbpre.pickle') # adjust path to where you saved the pickle file.\n",
    "else:\n",
    "    lbpre = Precomputer() # Takes a bit of time to run.\n",
    "    lbpre.save() # Save a copy\n",
    "    \n",
    "# the Sun's location in x,y,z cartesian coordinates (in parsecs) relative to the Galaxy centre\n",
    "xcart = [8100.0, 0.0, 90.0] \n",
    "# similar to the Sun's velocity in vx, vy, vz (given the position xcart) in units of pc/Myr.\n",
    "vcart = [-11.1, 12.24 + 220.0, 7.25] \n",
    "\n",
    "# Set up the particle's vertical oscillation frequency as a function of radius\n",
    "# vertical oscillation frequency at r=8100 pc.\n",
    "nu0 = np.sqrt( 4.0*np.pi * lbpre.gravity * 0.2) \n",
    "# powerlaw slope of the midplane density with radius, so that nu = nu0 (r/r0)^(-alpha/2)\n",
    "alpha = 2.2 \n",
    "# The potential, including the radial component (a logarithmic potential with a circular velocity of 220 pc/Myr) and a vertical component as above.\n",
    "psir = PotentialWrapper(LogPotential(220.0), nur=lambda r:nu0*(r/8100.0)**(-alpha/2.0)) \n",
    "\n",
    "# number of terms used in the series to find the tangential position of the particle\n",
    "ordershape = 10 \n",
    "# number of terms used in the series to find the relationship between the particle's phase in its radial oscillation and the current time.\n",
    "ordertime = 5 \n",
    "\n",
    "# initialize the particle\n",
    "part = Particle( xcart, vcart, psir, lbpre, ordershape=ordershape, ordertime=ordertime)\n",
    "\n",
    "# find the particle's position and velocity 100 Myr later.\n",
    "X,V = part.xvabs(100) \n",
    "\n",
    "print(X, V)"
   ]
  },
  {
   "cell_type": "code",
   "execution_count": 3,
   "id": "3ac7d440-f958-4825-9bbc-beb2c5d32bc2",
   "metadata": {},
   "outputs": [],
   "source": [
    "# We get\n",
    "# [-7899.86418167  4605.27704353  -121.26918128] [-104.14461122 -177.4118112     0.24529073]"
   ]
  }
 ],
 "metadata": {
  "kernelspec": {
   "display_name": "Python 3 (ipykernel)",
   "language": "python",
   "name": "python3"
  },
  "language_info": {
   "codemirror_mode": {
    "name": "ipython",
    "version": 3
   },
   "file_extension": ".py",
   "mimetype": "text/x-python",
   "name": "python",
   "nbconvert_exporter": "python",
   "pygments_lexer": "ipython3",
   "version": "3.9.6"
  }
 },
 "nbformat": 4,
 "nbformat_minor": 5
}
