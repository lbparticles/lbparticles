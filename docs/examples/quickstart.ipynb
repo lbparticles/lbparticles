{
 "cells": [
  {
   "cell_type": "code",
   "execution_count": 4,
   "id": "initial_id",
   "metadata": {
    "collapsed": true,
    "ExecuteTime": {
     "end_time": "2024-02-17T05:32:13.569646Z",
     "start_time": "2024-02-17T05:32:13.455030Z"
    }
   },
   "outputs": [
    {
     "name": "stdout",
     "output_type": "stream",
     "text": [
      "[-7899.86418167  4605.27704353  -121.26918128] [-104.14461122 -177.4118112     0.24529073]\n"
     ]
    }
   ],
   "source": [
    "from lbparticles import Precomputer, Particle, LogPotential, PotentialWrapper\n",
    "import numpy as np\n",
    "\n",
    "lbpre = Precomputer(PotentialWrapper(LogPotential(220.0)), use_multiprocessing=True) # create the precomputer.\n",
    "\n",
    "xcart = [8100.0, 0.0, 90.0] # the Sun's location in x,y,z cartesian coordinates (in parsecs)\n",
    "vcart = [-11.1, 12.24 + 220.0, 7.25] # similar to the Sun's velocity in vx, vy, vz (given the position xcart) in units of pc/Myr.\n",
    "nu0 = np.sqrt( 4.0*np.pi * lbpre.gravity * 0.2) # vertical oscillation frequency at r=8100 pc.\n",
    "alpha = 2.2 # powerlaw slope of the midplane density with radius, so that nu = nu0 (r/r0)^(-alpha/2)\n",
    "psir = PotentialWrapper(LogPotential(220.0)) # a logarithmic potential with a circular velocity of 220 pc/Myr.\n",
    "ordershape = 10 # number of terms used in the series to find the tangential position of the particle\n",
    "ordertime = 5 # number of terms used in the series to find the relationship between the particle's phase in its radial oscillation and the current time.\n",
    "\n",
    "part = Particle( xcart, vcart, psir, nu0, lbpre, ordershape=ordershape, ordertime=ordertime, alpha=2.2)\n",
    "\n",
    "X,V = part.xvabs(100) # find the particle's position and velocity 100 Myr later.\n",
    "\n",
    "print(X, V)"
   ]
  },
  {
   "cell_type": "code",
   "outputs": [],
   "source": [],
   "metadata": {
    "collapsed": false
   },
   "id": "22803381ad79e073"
  }
 ],
 "metadata": {
  "kernelspec": {
   "display_name": "Python 3",
   "language": "python",
   "name": "python3"
  },
  "language_info": {
   "codemirror_mode": {
    "name": "ipython",
    "version": 3
   },
   "file_extension": ".py",
   "mimetype": "text/x-python",
   "name": "python",
   "nbconvert_exporter": "python",
   "pygments_lexer": "ipython3",
   "version": "3.12.1"
  }
 },
 "nbformat": 4,
 "nbformat_minor": 5
}
