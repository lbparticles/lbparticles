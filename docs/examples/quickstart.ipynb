{
 "cells": [
  {
   "cell_type": "markdown",
   "id": "6268fe12-7842-46b4-8440-d56364bb4b76",
   "metadata": {},
   "source": [
    "# Quickstart"
   ]
  },
  {
   "cell_type": "markdown",
   "id": "6357934b-feac-4bea-b03d-53ad0981e348",
   "metadata": {},
   "source": [
    "Here we take a look at a quick use case for lbparticles, namely finding a particle's position and velocity some time after initialization."
   ]
  },
  {
   "cell_type": "code",
   "execution_count": 1,
   "id": "initial_id",
   "metadata": {
    "ExecuteTime": {
     "end_time": "2024-01-24T05:31:28.095361Z",
     "start_time": "2024-01-24T05:31:27.941239Z"
    }
   },
   "outputs": [],
   "source": [
    "from lbparticles import Precomputer, Particle, LogPotential, PotentialWrapper\n",
    "import numpy as np"
   ]
  },
  {
   "cell_type": "code",
   "execution_count": 2,
   "id": "24e2660e-c78d-49e2-a00f-a4bd04f820f4",
   "metadata": {},
   "outputs": [],
   "source": [
    "G= 0.00449987 # in pc^3 / (Msun Myr^2)\n",
    "iHaveACopy=False # we don't yet have a copy of the precomputer, which we will need."
   ]
  },
  {
   "cell_type": "markdown",
   "id": "099103f7-1e22-4318-88b3-2f86f3d3b2a6",
   "metadata": {},
   "source": [
    "The first thing we'll need after the imports above is the precomputer object.\n",
    "\n",
    "The easiest thing to do is just to download it (this is what the next cell does). If you don't run this cell the code later in the notebook will initialize a Precomputer object for you -- this will take O(10 minutes) to run."
   ]
  },
  {
   "cell_type": "code",
   "execution_count": 3,
   "id": "988ca03f-de84-44ed-9bcb-668c310652f6",
   "metadata": {},
   "outputs": [],
   "source": [
    "import urllib.request\n",
    "lbprefn, headers = urllib.request.urlretrieve('https://www.dropbox.com/scl/fi/yo7ud56pxap10facsqk6k/big_10_1000_alpha2p2_lbpre.pickle?rlkey=dix9e1a5yn7gqjlw2sdtmfbnx&dl=1')\n",
    "iHaveACopy=True"
   ]
  },
  {
   "cell_type": "code",
   "execution_count": 4,
   "id": "9ea1439a-acf7-4498-b6cf-363b2049e9aa",
   "metadata": {},
   "outputs": [],
   "source": [
    "if iHaveACopy:\n",
    "    #lbpre = Precomputer.load('../../big_10_1000_alpha2p2_lbpre.pickle') # adjust path to where you saved the pickle file.\n",
    "    lbpre = Precomputer.load(lbprefn)\n",
    "else:\n",
    "    lbpre = Precomputer() # Takes a bit of time to run.\n",
    "    lbpre.save() # Save a copy\n",
    "    lbprefn = lbpre.identifier + '_lbpre.pickle' # remember the filename so we can load it in if this cell is called again\n",
    "iHaveACopy=True"
   ]
  },
  {
   "cell_type": "markdown",
   "id": "67eb8794-813c-4069-b7fa-c7450f1c2358",
   "metadata": {},
   "source": [
    "Now we initialize a particle's position and velocity:"
   ]
  },
  {
   "cell_type": "code",
   "execution_count": 5,
   "id": "b93f7189-91fe-4399-a080-eb04e9bc9f9f",
   "metadata": {},
   "outputs": [],
   "source": [
    "# the Sun's location in x,y,z cartesian coordinates (in parsecs) relative to the Galaxy centre\n",
    "xcart = [8100.0, 0.0, 90.0] \n",
    "# similar to the Sun's velocity in vx, vy, vz (given the position xcart) in units of pc/Myr.\n",
    "vcart = [-11.1, 12.24 + 220.0, 7.25] "
   ]
  },
  {
   "cell_type": "markdown",
   "id": "7acb4618-f998-468a-89f5-d2338474d704",
   "metadata": {},
   "source": [
    "Now we need to set up the potential in which the particle will orbit. This is split into a vertical component and a radial component. For the vertical component, we assume that the vertical oscillation frequency is \n",
    "\n",
    "$\\nu_0 = \\sqrt{4\\pi G \\cdot 0.2}$ \n",
    "\n",
    "a value about right for the self-gravity of the stellar disk in the Solar neighborhood.\n",
    "\n",
    "We then assume that we can describe the radial variation of this vertical frequency with a powerlaw (though any function is supported).\n",
    "\n",
    "$\\nu = \\nu_0 (r/8100\\ \\mathrm{pc})^{-\\alpha/2}$\n",
    "\n",
    "The powerlaw $\\alpha$ describes the variation of the midplane density with radius, hence the factor of 2 in the exponent. This is a reasonable description of the variation near the Solar circle for $\\alpha\\approx 2.2$.\n",
    "\n",
    "The radial component of the potential is described with a LogPotential, which takes as its argument the circular velocity. This potential produces a flat rotation curve."
   ]
  },
  {
   "cell_type": "code",
   "execution_count": 6,
   "id": "60fe5436-969d-4aa2-9d2b-0382e3ed8dc1",
   "metadata": {},
   "outputs": [],
   "source": [
    "# Set up the particle's vertical oscillation frequency as a function of radius\n",
    "# vertical oscillation frequency at r=8100 pc.\n",
    "nu0 = np.sqrt( 4.0*np.pi * G * 0.2) \n",
    "# powerlaw slope of the midplane density with radius, so that nu = nu0 (r/r0)^(-alpha/2)\n",
    "alpha = 2.2 \n",
    "# The potential, including the radial component (a logarithmic potential with a circular velocity of 220 pc/Myr) and a vertical component as above.\n",
    "psir = PotentialWrapper(LogPotential(220.0), nur=lambda r:nu0*(r/8100.0)**(-alpha/2.0)) "
   ]
  },
  {
   "cell_type": "markdown",
   "id": "c43bb07c-d890-407a-b38a-567373c5f5bb",
   "metadata": {},
   "source": [
    "Finally we make a choice for how many terms to use in the expansions, and initialize the particle."
   ]
  },
  {
   "cell_type": "code",
   "execution_count": 7,
   "id": "1ea0e441-772d-4ab0-9227-a4f14a371d2b",
   "metadata": {},
   "outputs": [],
   "source": [
    "# number of terms used in the series to find the tangential position of the particle\n",
    "ordershape = 10 \n",
    "# number of terms used in the series to find the relationship between the particle's phase in its radial oscillation and the current time.\n",
    "ordertime = 5 \n",
    "\n",
    "# initialize the particle\n",
    "part = Particle( xcart, vcart, psir, lbpre, ordershape=ordershape, ordertime=ordertime)"
   ]
  },
  {
   "cell_type": "markdown",
   "id": "60c5343f-2bda-4c04-b2ae-b0246cbb8374",
   "metadata": {},
   "source": [
    "With the particle initialized, we can find its position and velocity at any time:"
   ]
  },
  {
   "cell_type": "code",
   "execution_count": 8,
   "id": "cc8407d3-b6c2-4e80-8ec0-ac96e65eac1b",
   "metadata": {
    "ExecuteTime": {
     "end_time": "2024-01-24T05:31:28.095361Z",
     "start_time": "2024-01-24T05:31:27.941239Z"
    }
   },
   "outputs": [
    {
     "name": "stdout",
     "output_type": "stream",
     "text": [
      "[-7899.86418169  4605.27704349  -121.26918128] [-104.14461122 -177.4118112     0.24529073]\n"
     ]
    }
   ],
   "source": [
    "# find the particle's position and velocity 100 Myr later.\n",
    "X,V = part.xvabs(100) \n",
    "\n",
    "print(X, V)"
   ]
  },
  {
   "cell_type": "code",
   "execution_count": 9,
   "id": "3ac7d440-f958-4825-9bbc-beb2c5d32bc2",
   "metadata": {},
   "outputs": [],
   "source": [
    "# We get\n",
    "# [-7899.86418167  4605.27704353  -121.26918128] [-104.14461122 -177.4118112     0.24529073]"
   ]
  }
 ],
 "metadata": {
  "kernelspec": {
   "display_name": "Python 3 (ipykernel)",
   "language": "python",
   "name": "python3"
  },
  "language_info": {
   "codemirror_mode": {
    "name": "ipython",
    "version": 3
   },
   "file_extension": ".py",
   "mimetype": "text/x-python",
   "name": "python",
   "nbconvert_exporter": "python",
   "pygments_lexer": "ipython3",
   "version": "3.9.6"
  }
 },
 "nbformat": 4,
 "nbformat_minor": 5
}
